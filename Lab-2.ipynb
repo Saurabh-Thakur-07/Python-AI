{
  "nbformat": 4,
  "nbformat_minor": 0,
  "metadata": {
    "colab": {
      "name": "Untitled0.ipynb",
      "provenance": [],
      "collapsed_sections": [],
      "authorship_tag": "ABX9TyPMT0Rkhh6tbrYAAii4TwpV",
      "include_colab_link": true
    },
    "kernelspec": {
      "name": "python3",
      "display_name": "Python 3"
    },
    "language_info": {
      "name": "python"
    }
  },
  "cells": [
    {
      "cell_type": "markdown",
      "metadata": {
        "id": "view-in-github",
        "colab_type": "text"
      },
      "source": [
        "<a href=\"https://colab.research.google.com/github/Saurabh-Thakur-07/Python-AI/blob/main/Lab-2.ipynb\" target=\"_parent\"><img src=\"https://colab.research.google.com/assets/colab-badge.svg\" alt=\"Open In Colab\"/></a>"
      ]
    },
    {
      "cell_type": "code",
      "execution_count": 5,
      "metadata": {
        "colab": {
          "base_uri": "https://localhost:8080/"
        },
        "id": "ox2hh0I7N2CO",
        "outputId": "e7085196-8828-405e-ccae-c26ff8a6c256"
      },
      "outputs": [
        {
          "output_type": "stream",
          "name": "stdout",
          "text": [
            "-------------------\n",
            "7 4 2\n",
            "5 0 6\n",
            "8 3 1\n",
            "-------------------\n",
            "-------------------\n",
            "7 4 2\n",
            "5 3 6\n",
            "8 0 1\n",
            "-------------------\n",
            "-------------------\n",
            "7 4 2\n",
            "5 0 6\n",
            "8 3 1\n",
            "-------------------\n",
            "-------------------\n",
            "7 4 2\n",
            "5 6 0\n",
            "8 3 1\n",
            "-------------------\n",
            "-------------------\n",
            "7 4 2\n",
            "5 0 6\n",
            "8 3 1\n",
            "-------------------\n"
          ]
        }
      ],
      "source": [
        "class MyEightPuzzle:\n",
        "    def __init__(self,startState,goalState):\n",
        "        self.currentState=startState\n",
        "        self.goal=goalState\n",
        "        self.emptyIndex=self.emptyTileIndex()\n",
        "    def up(self):\n",
        "        if self.emptyIndex==6 or self.emptyIndex==7 or self.emptyIndex==8:\n",
        "            print(\"cannot move\")\n",
        "        else:\n",
        "            self.currentState[self.emptyIndex]=self.currentState[self.emptyIndex+3]\n",
        "            self.currentState[self.emptyIndex+3]=0\n",
        "            self.emptyIndex=self.emptyIndex+3\n",
        "    def down(self):\n",
        "        if self.emptyIndex==0 or self.emptyIndex==1 or self.emptyIndex==2:\n",
        "            print(\"cannot move\")\n",
        "        else:\n",
        "            self.currentState[self.emptyIndex]=self.currentState[self.emptyIndex-3]\n",
        "            self.currentState[self.emptyIndex-3]=0\n",
        "            self.emptyIndex=self.emptyIndex-3\n",
        "    def left(self):\n",
        "        if self.emptyIndex==2 or self.emptyIndex==5 or self.emptyIndex==8:\n",
        "            print('cannot move')\n",
        "        else:\n",
        "            self.currentState[self.emptyIndex]=self.currentState[self.emptyIndex+1]\n",
        "            self.currentState[self.emptyIndex+1]=0\n",
        "            self.emptyIndex=self.emptyIndex+1\n",
        "    def right(self):\n",
        "        if self.emptyIndex==0 or self.emptyIndex==3 or self.emptyIndex==6:\n",
        "            print('cannot move')\n",
        "        else:\n",
        "            self.currentState[self.emptyIndex]=self.currentState[self.emptyIndex-1]\n",
        "            self.currentState[self.emptyIndex-1]=0\n",
        "            self.emptyIndex=self.emptyIndex-1\n",
        "    def emptyTileIndex(self):\n",
        "        for i in range(0,9):\n",
        "            if(self.currentState[i]==0):\n",
        "                return i\n",
        "    def isGoalReached(self):\n",
        "        if(self.currentState==self.goalState):\n",
        "            return True\n",
        "        else:\n",
        "            return False\n",
        "    def displayState(self):\n",
        "        print('-------------------')\n",
        "        for i in range(0,8,3):\n",
        "            print(self.currentState[i],self.currentState[i+1],self.currentState[i+2])\n",
        "        print('-------------------')\n",
        "\n",
        "start=[7,4,2,5,0,6,8,3,1]\n",
        "goal=[0,1,2,3,4,5,6,7,8]\n",
        "problem=MyEightPuzzle(start,goal)\n",
        "problem.displayState()\n",
        "problem.up()\n",
        "problem.displayState()\n",
        "problem.down()\n",
        "problem.displayState()\n",
        "problem.left()\n",
        "problem.displayState()\n",
        "problem.right()\n",
        "problem.displayState()"
      ]
    },
    {
      "cell_type": "code",
      "source": [
        "class waterJug:\n",
        "    def __init__(self,x_cap,y_cap,goal_x,goal_y):\n",
        "        self.x=0\n",
        "        self.y=0\n",
        "        self.xcap=x_cap\n",
        "        self.ycap=y_cap\n",
        "        self.goalx=goal_x\n",
        "        self.goaly=goal_y\n",
        "        print('Jug x has max capacity of',self.xcap ,'but they are currently empty')\n",
        "        print('Jug y has max capacity of',self.ycap, 'but they are currently empty')\n",
        "    def Fill_x(self,x):\n",
        "        self.x=x\n",
        "        print('Now jug x has capacity',self.x)\n",
        "        print('Now jug y has capacity',self.y)\n",
        "    def Fill_y(self,y):\n",
        "        self.y=y\n",
        "        print('Now jug x has capacity',self.x)\n",
        "        print('Now jug y has capacity',self.y)\n",
        "    def CompletePourXtoY(self):\n",
        "        self.y = self.y + self.x\n",
        "        self.x = 0\n",
        "        print('Now jug x has capacity',self.x)\n",
        "        print('Now jug y has capacity',self.y)\n",
        "    def CompletePourYtoX(self):\n",
        "        self.x = self.x + self.y\n",
        "        self.y = 0\n",
        "        print('Now jug x has capacity',self.x)\n",
        "        print('Now jug y has capacity',self.y)\n",
        "    def PartialPourXtoY(self,val):\n",
        "        self.x=self.x-val\n",
        "        self.x=self.y+val\n",
        "    def PartialPourYtoX(self,val):\n",
        "        self.x=self.x+val\n",
        "        self.y=self.y-val\n",
        "    def EmptyXtoGround(self):\n",
        "        self.x=0\n",
        "        print('Now jug x has capacity',self.x)\n",
        "        print('Now jug y has capacity',self.y)\n",
        "    def EmptyYtoGround(self):\n",
        "        self.y=0\n",
        "        print('Now jug x has capacity',self.x)\n",
        "        print('Now jug y has capacity',self.y)\n",
        "    def goalStateX(self):\n",
        "        if (self.goalx == self.x):\n",
        "            print('goal state of x accomplished')\n",
        "    def goalStateY(self):\n",
        "        if (self.goaly == self.y):\n",
        "            print('goal state of y accomplished')\n",
        "problem=waterJug(4,3,2,0)\n",
        "problem.Fill_y(3)\n",
        "problem.CompletePourYtoX()\n",
        "problem.Fill_y(3)\n",
        "problem.PartialPourYtoX(1)\n",
        "problem.EmptyXtoGround()\n",
        "problem.CompletePourYtoX()\n",
        "problem.goalStateX()"
      ],
      "metadata": {
        "colab": {
          "base_uri": "https://localhost:8080/"
        },
        "id": "8iUJaVgxjZ8v",
        "outputId": "30b4fa8f-c290-4fb8-9c7c-891c623e1475"
      },
      "execution_count": 18,
      "outputs": [
        {
          "output_type": "stream",
          "name": "stdout",
          "text": [
            "Jug x has max capacity of 4 but they are currently empty\n",
            "Jug y has max capacity of 3 but they are currently empty\n",
            "Now jug x has capacity 0\n",
            "Now jug y has capacity 3\n",
            "Now jug x has capacity 3\n",
            "Now jug y has capacity 0\n",
            "Now jug x has capacity 3\n",
            "Now jug y has capacity 3\n",
            "Now jug x has capacity 0\n",
            "Now jug y has capacity 2\n",
            "Now jug x has capacity 2\n",
            "Now jug y has capacity 0\n",
            "goal state of x accomplished\n"
          ]
        }
      ]
    }
  ]
}