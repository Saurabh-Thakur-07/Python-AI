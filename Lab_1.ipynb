{
  "nbformat": 4,
  "nbformat_minor": 0,
  "metadata": {
    "colab": {
      "name": "Lab-1",
      "provenance": [],
      "collapsed_sections": [],
      "authorship_tag": "ABX9TyNTF7diO/fXJjhAKl/dmPcI",
      "include_colab_link": true
    },
    "kernelspec": {
      "name": "python3",
      "display_name": "Python 3"
    },
    "language_info": {
      "name": "python"
    }
  },
  "cells": [
    {
      "cell_type": "markdown",
      "metadata": {
        "id": "view-in-github",
        "colab_type": "text"
      },
      "source": [
        "<a href=\"https://colab.research.google.com/github/Saurabh-Thakur-07/Python-AI/blob/main/Lab_1.ipynb\" target=\"_parent\"><img src=\"https://colab.research.google.com/assets/colab-badge.svg\" alt=\"Open In Colab\"/></a>"
      ]
    },
    {
      "cell_type": "code",
      "execution_count": 4,
      "metadata": {
        "colab": {
          "base_uri": "https://localhost:8080/"
        },
        "id": "PN0pArZKNR6p",
        "outputId": "41c21374-31f7-446a-c5b1-07b2b01f9fc8"
      },
      "outputs": [
        {
          "output_type": "stream",
          "name": "stdout",
          "text": [
            "enter x:1\n",
            "enter n:1\n",
            "2.0\n"
          ]
        }
      ],
      "source": [
        "import math\n",
        "x=int(input(\"enter x:\"))\n",
        "n=int(input(\"enter n:\"))\n",
        "sum=0\n",
        "def power(x, n):\n",
        "    if n == 0:\n",
        "        return 1\n",
        "    elif n == 1:\n",
        "        return x\n",
        "    else:\n",
        "        return (x * power(x, n - 1))\n",
        "def fac(n):\n",
        "    return 1 if (n == 1 or n == 0) else n * fac(n - 1)\n",
        "for n in range (0,n+1):\n",
        "    a=(pow(x,n))/(fac(n)) #a=(x**n)/(fac(n))\n",
        "    sum=sum+a\n",
        "print(sum)"
      ]
    },
    {
      "cell_type": "code",
      "source": [
        "\"\"\"WAP to create a list of 100 random numbers between 100 and 900. Count and print the: \n",
        "(i) All odd numbers\n",
        "(ii) All even numbers\n",
        "(iii) All prime numbers\"\"\"\n",
        "import random as r\n",
        "from math import sqrt\n",
        "L=r.sample(range(100,900),10)\n",
        "primelist=[]\n",
        "evenlist=[]\n",
        "oddlist=[]\n",
        "def prime():\n",
        "  for i in range(0,len(L)):\n",
        "    prime_flag=0\n",
        "    for j in range(2, int(sqrt(L[i])) + 1):\n",
        "        if (L[i] % j == 0):\n",
        "            prime_flag = 1\n",
        "            break\n",
        "    if (prime_flag == 0):\n",
        "        primelist.append(L[i])\n",
        "def even() :\n",
        " for i in range(0,len(L)):\n",
        "    if(L[i]%2==0):\n",
        "        evenlist.append(L[i])\n",
        "def odd() :\n",
        " for i in range(0,len(L)):\n",
        "    if(L[i]%2!=0):\n",
        "        oddlist.append(L[i])\n",
        "even()\n",
        "odd()\n",
        "prime()\n",
        "\n",
        "print(\"even->\",evenlist)\n",
        "print(\"total of even numbers->\",len(evenlist))\n",
        "print(\"odd->\",oddlist)\n",
        "print(\"total of odd numbers->\",len(oddlist))\n",
        "print(\"prime->\",primelist)\n",
        "print(\"total of prime numbers->\",len(primelist))\n",
        "print(L)"
      ],
      "metadata": {
        "colab": {
          "base_uri": "https://localhost:8080/"
        },
        "id": "-OEVtzYyOnNq",
        "outputId": "abd9a626-b082-4a0b-fca7-90790141bd2e"
      },
      "execution_count": 16,
      "outputs": [
        {
          "output_type": "stream",
          "name": "stdout",
          "text": [
            "even-> [372, 744, 640, 746, 370, 700]\n",
            "total of even numbers-> 6\n",
            "odd-> [647, 763, 785, 841]\n",
            "total of odd numbers-> 4\n",
            "prime-> [647]\n",
            "total of prime numbers-> 1\n",
            "[372, 744, 640, 746, 647, 370, 763, 700, 785, 841]\n"
          ]
        }
      ]
    },
    {
      "cell_type": "code",
      "source": [
        "def isprime(n):\n",
        "    for i in range(2,n):\n",
        "        if n%i==0 :\n",
        "         return 1\n",
        "    else :\n",
        "     return 0\n",
        "\n",
        "a=int(input(\"enter a:\"))\n",
        "b=int(input(\"enter b:\"))\n",
        "for x in range(a,b+1):\n",
        "  f=isprime(x)\n",
        "  if f==1:\n",
        "    print(\"not prime\")\n",
        "  if f==0:\n",
        "    print(x,\"is prime\")"
      ],
      "metadata": {
        "colab": {
          "base_uri": "https://localhost:8080/"
        },
        "id": "Lzwpf5x3TW6v",
        "outputId": "cfc6cc1e-69a6-4eed-e91d-fc4e390d62b3"
      },
      "execution_count": 17,
      "outputs": [
        {
          "output_type": "stream",
          "name": "stdout",
          "text": [
            "enter a:1\n",
            "enter b:10\n",
            "1 is prime\n",
            "2 is prime\n",
            "3 is prime\n",
            "not prime\n",
            "5 is prime\n",
            "not prime\n",
            "7 is prime\n",
            "not prime\n",
            "not prime\n",
            "not prime\n"
          ]
        }
      ]
    },
    {
      "cell_type": "code",
      "source": [
        "#Find the common elements from two lists.\n",
        "l1=[1,2,3,4,5]\n",
        "l2=[5,6,3,2,1]\n",
        "for i in range(len(l1)):\n",
        "  for j in range(len(l2)):\n",
        "    if l1[i]==l2[j] :\n",
        "        print(l1[i])\n"
      ],
      "metadata": {
        "colab": {
          "base_uri": "https://localhost:8080/"
        },
        "id": "WQpezZo6Oie1",
        "outputId": "84bbd8e5-254b-4bd4-ecc3-5b2fc7a22308"
      },
      "execution_count": 6,
      "outputs": [
        {
          "output_type": "stream",
          "name": "stdout",
          "text": [
            "1\n",
            "2\n",
            "3\n",
            "5\n"
          ]
        }
      ]
    },
    {
      "cell_type": "code",
      "source": [
        "\"\"\"Print the leap years between any two years. The limit of the years should be entered at \n",
        "execution time.\"\"\"\n",
        "def isleap(year):\n",
        "    if (year % 400 == 0) and (year % 100 == 0):\n",
        "       print(\"{0} is a leap year\".format(year))\n",
        "\n",
        "    elif (year % 4 ==0) and (year % 100 != 0):\n",
        "      print(\"{0} is a leap year\".format(year))\n",
        "\n",
        "a=int(input(\"enter first year:\"))\n",
        "b=int(input(\"enter second year:\"))\n",
        "\n",
        "for x in range(a,b+1):\n",
        "   f=isleap(x)\n",
        "  "
      ],
      "metadata": {
        "colab": {
          "base_uri": "https://localhost:8080/"
        },
        "id": "L5IAIQEOTn1F",
        "outputId": "f0db682a-d8f9-488b-d5da-e68c85374766"
      },
      "execution_count": 22,
      "outputs": [
        {
          "output_type": "stream",
          "name": "stdout",
          "text": [
            "enter first year:2016\n",
            "enter second year:2022\n",
            "2016 is a leap year\n",
            "2020 is a leap year\n"
          ]
        }
      ]
    },
    {
      "cell_type": "code",
      "source": [
        "\"\"\"Write a Python Program to input basic salary of an employee and calculate its Gross \n",
        "salary according to following: Basic Salary <= 10000 : HRA = 20%, DA = 80% Basic \n",
        "Salary <= 20000 : HRA = 25%, DA = 90% Basic Salary > 20000 : HRA = 30%, DA = \n",
        "95%.\"\"\"\n",
        "b=int(input(\"enter basic salary:\"))\n",
        "if b<= 10000 :\n",
        "    hra=(b*20)/100\n",
        "    da=(b*80)/100\n",
        "elif b<= 20000 :\n",
        "    hra=(b*25)/100\n",
        "    da=(b*90)/100\n",
        "else :\n",
        "    hra=(b*30)/100\n",
        "    da=(b*95)/100\n",
        "\n",
        "gs=(b+hra+da)\n",
        "print(gs)\n",
        "\n"
      ],
      "metadata": {
        "colab": {
          "base_uri": "https://localhost:8080/"
        },
        "id": "WCb-HO6BVDvy",
        "outputId": "7b629302-a195-4f60-8eb8-c64b259ea420"
      },
      "execution_count": 23,
      "outputs": [
        {
          "output_type": "stream",
          "name": "stdout",
          "text": [
            "enter basic salary:1000\n",
            "2000.0\n"
          ]
        }
      ]
    },
    {
      "cell_type": "code",
      "source": [
        "\"\"\"Write a Python program to check the validity of password input by users. \n",
        "Validation: \n",
        " At least 1 letter between [a-z] and 1 letter between [A-Z]. \n",
        " At least 1 number between [0-9]. \n",
        " At least 1 character from [$#@]. \n",
        " Minimum length 6 characters. \n",
        " Maximum length 16 characters.\n",
        "\"\"\"\n",
        "import re\n",
        "p=input(\"password\")\n",
        "while  (True):\n",
        "    if len(p)<6 and len(p)>16 :\n",
        "      flag=-1\n",
        "      break\n",
        "    elif not re.search(p,\"[a-z]\") :\n",
        "       flag=-1\n",
        "       break\n",
        "    elif not re.search(p,\"[A-Z]\") :\n",
        "       flag=-1\n",
        "       break\n",
        "    elif not re.search(p,\"[0-9]\"):\n",
        "       flag=-1\n",
        "       break\n",
        "    elif not re.search(p,\"[$#@]\"):\n",
        "       flag=-1\n",
        "       break\n",
        "    else : \n",
        "      flag=0\n",
        "      print(\"valid pass\")\n",
        "    if flag == -1 :\n",
        "      print(\"invalid pass\")"
      ],
      "metadata": {
        "colab": {
          "base_uri": "https://localhost:8080/"
        },
        "id": "eskr5bZXVQ9m",
        "outputId": "e50ddd2c-a827-4586-9966-e418a0e85365"
      },
      "execution_count": 1,
      "outputs": [
        {
          "name": "stdout",
          "output_type": "stream",
          "text": [
            "passwordSaurabh@123\n"
          ]
        }
      ]
    },
    {
      "cell_type": "code",
      "source": [
        "\"\"\"Create a List L having data as= [10, 20, 30, 40, 50, 60, 70, 80].\n",
        "(i) WAP to add 200 and 300 to L. \n",
        "(ii) WAP to remove 10 and 30 from L.\n",
        "(iii) WAP to sort L in ascending order.\n",
        "(iv) WAP to sort L in descending order.\n",
        "\"\"\"\n",
        "a=[10,20,30,40,50,60,70,80]\n",
        "a.append(200)\n",
        "a.append(300)\n",
        "print(a)\n",
        "a.remove(10)\n",
        "a.remove(30)\n",
        "print(a)\n",
        "a.sort()\n",
        "print(a)\n",
        "a.sort(reverse=True)\n",
        "print(a)"
      ],
      "metadata": {
        "colab": {
          "base_uri": "https://localhost:8080/"
        },
        "id": "pG6MosR2W0-X",
        "outputId": "b6918b35-7654-400b-f925-c0e80896c26a"
      },
      "execution_count": 4,
      "outputs": [
        {
          "output_type": "stream",
          "name": "stdout",
          "text": [
            "[10, 20, 30, 40, 50, 60, 70, 80, 200, 300]\n",
            "[20, 40, 50, 60, 70, 80, 200, 300]\n",
            "[20, 40, 50, 60, 70, 80, 200, 300]\n",
            "[300, 200, 80, 70, 60, 50, 40, 20]\n"
          ]
        }
      ]
    },
    {
      "cell_type": "code",
      "source": [
        "\"\"\"D is a dictionary defined as D= {1:”One”, 2:”Two”, 3:”Three”, 4: “Four”, 5:”Five”}.\n",
        "(i) WAP to add new entry in D; key=6 and value is “Six”\n",
        "(ii) WAP to remove key=2.\n",
        "(iii) WAP to check if 6 key is present in D.\n",
        "(iv) WAP to count the number of elements present in D.\n",
        "(v) WAP to add all the values present in D.\n",
        "\"\"\"\n",
        "def checkKey(D, key):\n",
        "      \n",
        "    if key in D.keys():\n",
        "        print(\"Present, \", end =\" \")\n",
        "        print(\"value =\", D[key])\n",
        "    else:\n",
        "        print(\"Not present\")\n",
        "D ={\n",
        "    1:\"One\",\n",
        "    2:\"Two\", \n",
        "    3:\"Three\",\n",
        "    4:\"Four\",\n",
        "    5:\"Five\"\n",
        "}\n",
        "D[6]=\"Six\"\n",
        "D.pop(2)\n",
        "print(D)\n",
        "print(len(D.keys()))\n",
        "print(checkKey(D,6))\n",
        "print(str(D))"
      ],
      "metadata": {
        "colab": {
          "base_uri": "https://localhost:8080/"
        },
        "id": "glLsBW03XMnZ",
        "outputId": "e39ebe90-16f3-4164-b994-520cfdf997c0"
      },
      "execution_count": 15,
      "outputs": [
        {
          "output_type": "stream",
          "name": "stdout",
          "text": [
            "{1: 'One', 3: 'Three', 4: 'Four', 5: 'Five', 6: 'Six'}\n",
            "5\n",
            "Present,  value = Six\n",
            "None\n",
            "{1: 'One', 3: 'Three', 4: 'Four', 5: 'Five', 6: 'Six'}\n"
          ]
        }
      ]
    },
    {
      "cell_type": "code",
      "source": [
        "\"\"\"(i) Write a function which takes principal amount, interest rate and time. \n",
        "This function returns compound interest. Call this function to print the output.\n",
        "(ii) Save this function (as a module) in a python file and call it in another \n",
        "python file.\"\"\"\n",
        "def simple_interest(p,t,r):\n",
        "    print('The principal is', p)\n",
        "    print('The time period is', t)\n",
        "    print('The rate of interest is',r)\n",
        "      \n",
        "    si = (p * t * r)/100\n",
        "      \n",
        "    print('The Simple Interest is', si)\n",
        "    return si\n",
        "      \n",
        "# Driver code\n",
        "simple_interest(100,10, 1)"
      ],
      "metadata": {
        "colab": {
          "base_uri": "https://localhost:8080/"
        },
        "id": "NMEoHcLGZkFq",
        "outputId": "0bba987a-c94a-40ff-b601-a901fd950feb"
      },
      "execution_count": 20,
      "outputs": [
        {
          "output_type": "stream",
          "name": "stdout",
          "text": [
            "The principal is 100\n",
            "The time period is 10\n",
            "The rate of interest is 1\n",
            "The Simple Interest is 10.0\n"
          ]
        },
        {
          "output_type": "execute_result",
          "data": {
            "text/plain": [
              "10.0"
            ]
          },
          "metadata": {},
          "execution_count": 20
        }
      ]
    }
  ]
}